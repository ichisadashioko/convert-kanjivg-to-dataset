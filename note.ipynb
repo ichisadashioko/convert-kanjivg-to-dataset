{
 "cells": [
  {
   "cell_type": "code",
   "execution_count": 38,
   "metadata": {},
   "outputs": [],
   "source": [
    "import os\n",
    "import re\n",
    "import importlib\n",
    "\n",
    "from xml.dom import minidom\n",
    "\n",
    "from tqdm import tqdm\n",
    "\n",
    "import numpy as np\n",
    "import matplotlib.pyplot as plt\n",
    "import cv2"
   ]
  },
  {
   "cell_type": "code",
   "execution_count": 2,
   "metadata": {},
   "outputs": [
    {
     "data": {
      "text/plain": [
       "True"
      ]
     },
     "execution_count": 2,
     "metadata": {},
     "output_type": "execute_result"
    }
   ],
   "source": [
    "svg_kanji_root = 'kanjivg/kanji'\n",
    "os.path.exists(svg_kanji_root)"
   ]
  },
  {
   "cell_type": "code",
   "execution_count": 3,
   "metadata": {},
   "outputs": [
    {
     "data": {
      "text/plain": [
       "['00021.svg', '0002c.svg', '0002e.svg', '00030.svg', '00031.svg']"
      ]
     },
     "execution_count": 3,
     "metadata": {},
     "output_type": "execute_result"
    }
   ],
   "source": [
    "svg_kanji_filenames = os.listdir(svg_kanji_root)\n",
    "svg_kanji_filenames[:5]"
   ]
  },
  {
   "cell_type": "code",
   "execution_count": 4,
   "metadata": {},
   "outputs": [
    {
     "data": {
      "text/plain": [
       "11458"
      ]
     },
     "execution_count": 4,
     "metadata": {},
     "output_type": "execute_result"
    }
   ],
   "source": [
    "len(svg_kanji_filenames)"
   ]
  },
  {
   "cell_type": "code",
   "execution_count": 5,
   "metadata": {},
   "outputs": [
    {
     "data": {
      "text/plain": [
       "'!'"
      ]
     },
     "execution_count": 5,
     "metadata": {},
     "output_type": "execute_result"
    }
   ],
   "source": [
    "def convert_filename_to_unicode_char(filename: str):\n",
    "    code_point = int(re.findall(r'\\w+', filename)[0], 16)\n",
    "    return chr(code_point)\n",
    "\n",
    "convert_filename_to_unicode_char(svg_kanji_filenames[0])"
   ]
  },
  {
   "cell_type": "code",
   "execution_count": 6,
   "metadata": {},
   "outputs": [
    {
     "name": "stdout",
     "output_type": "stream",
     "text": [
      "! , . 0 1 2 3 4 5 6 7 8 9 : ; ? A B C D E F G H I J K L M N O P Q R S T U V W X Y Z a b c d e f g h i j k l m n o p q r s t u v w x y z ⺌ ⺍ ⺕ ⺗ ⺡ ⺤ ⺦ ⺨ ⻌ ⻏ ⻖ 、 。 々 〆 ぁ あ ぃ い ぅ う ぇ え ぉ お か が き ぎ く ぐ け げ こ ご さ ざ し じ す ず せ ぜ そ ぞ た だ ち ぢ っ つ づ て で と ど な に ぬ ね の は ば ぱ ひ び ぴ ふ ぶ ぷ へ べ ぺ ほ ぼ ぽ ま み む め も ゃ や ゅ ゆ ょ よ ら り る れ ろ ゎ わ ゐ ゑ を ん ゔ ゕ ゖ ゛ ゜ ゝ ゞ ァ ア ィ イ ゥ ウ ェ エ ォ オ カ ガ キ ギ ク グ ケ ゲ コ ゴ サ ザ シ ジ ス ズ セ ゼ ソ ゾ タ ダ チ ヂ ッ ツ ヅ テ デ ト ド ナ ニ ヌ ネ ノ ハ バ パ ヒ ビ ピ フ ブ プ ヘ ベ ペ ホ ボ ポ マ ミ ム メ モ ャ ヤ ュ ユ ョ ヨ ラ リ ル レ ロ ヮ ワ ヰ ヱ ヲ ン ヴ ヵ ヶ ヷ ヸ ヹ ヺ ・ ー ヽ ヾ 㐬 㓁 一 丁 七 万 丈 三 上 下 不 与 丐 丑 且 且 丕 世 丗 丘 丙 丞 両 並 丨 个 中 丱 串 丶 丸 丹 主 主 丼 丿 乂 乃 久 之 之 乍 乎 乏 乕 乖 乗 乗 乘 乘 乙 九 乞 也 乢 乱 乳 乾 乾 亀 亀 亂 亅 了 予 争 亊 事 二 于 云 互 五 井 亘 亘 亙 些 些 亜 亞 亟 亠 亠 亡 亡 亢 亢 交 亥 亥 亦 亦 亨 亨 享 享 京 京 亭 亭 亮 亮 亰 亰 亳 亳 亶 亶 人 亻 什 仁 仂 仄 仆 仇 今 介 仍 从 仏 仔 仕 他 仗 付 仙 仞 仟 代 令 令 以 仭 仮 仰 仲 件 价 任 企 企 伉 伉 伊 伍 伎 伏 伐 休 休 会 伜 伝 伯 伯 估 伴 伶 伶 伸 伸 伺 似 伽 佃 佃 但 但 佇 佇 位 位 低 住 住 佐 佑 体 何 佗 佗 余 佚 佛 作 佝 佞 佩 佯 佰 佰 佳 併 佶 佻 佻 佼 佼 使 侃 來 來 侈 例 侍 侏 侏 侑 侑 侖 侖 侘 侘 供 依 依 侠 価 侫 侫 侭 侮 侯 侵 侵 侶 便 便 係 係 促 俄 俊 俎 俎 俐 俐 俑 俑 俔 俔 俗 俘 俚 俚 俚 俛 保 保 俟 信 俣 俤 俤 俥 俥 修 俯 俯 俳 俳 俵 俵 俶 俶 俸 俺 俺 俾 俾 倅 倅 倆 倉 個 倍 倍 倏 們 們 倒 倒 倔 倖 候 倚 借 借 倡 倡 倣 倣 値 値 倥 倥 倦 倦 倨 倩 倩 倪 倪 倫 倫 倬 倬 倬 倭 倶 倶 倶 倶 倹 偃 偃 假 偈 偈 偉 偏 偏 偐 偐 偕 偕 偖 偖 做 停 停 健 偬 偲 偲 側 側 偵 偵 偵 偶 偶 偸 偽 傀 傀 傅 傅 傍 傍 傑 傑 傘 備 備 備 備 傚 傚 催 傭 傭 傲 傲 傳 傴 債 債 債 傷 傷 傾 傾 僂 僅 僅 僅 僉 僊 働 働 働 像 僑 僕 僖 僚 僚 僞 僣 僣 僥 僧 僧 僭 僭 僮 僮 僮 僵 僵 價 價 僻 僻 儀 儁 儂 儂 儂 億 億 儉 儒 儔 儕 儕 儕 儖 儖 儘 儘 儚 償 償 儡 儡 優 優 儲 儲 儲 儲 儷 儷 儺 儻 儻 儼 儼 儼 儿 兀 允 元 兄 充 充 兆 兆 兇 先 光 克 兌 免 兎 兎 兎 児 児 兒 兒 兔 党 兜 兜 兢 入 全 全 兩 兪 八 公 六 六 兮 共 关 兵 其 其 具 具 典 典 典 兼 冀 冀 冂 内 円 冉 冊 册 再 冏 冐 冐 冑 冑 冑 冒 冒 冓 冓 冕 冖 冗 写 冠 冢 冤 冤 冥 冥 冦 冨 冨 冩 冩 冪 冪 冫 冬 冰 冱 冲 决 冴 况 冶 冷 冷 冽 凄 凄 凅 准 凉 凉 凋 凌 凍 凍 凖 凛 凛 凜 凜 凝 凝 几 凡 処 凧 凩 凩 凪 凪 凭 凰 凰 凰 凱 凵 凶 凸 凹 出 函 凾 刀 刂 刃 刄 分 切 切 刈 刊 刊 刋 刎 刑 刔 列 初 判 判 別 刧 利 利 刪 刮 到 到 刳 制 刷 券 刹 刹 刺 刺 刻 刻 剃 剃 剄 則 則 削 削 剋 剌 剌 前 前 剏 剔 剔 剖 剖 剛 剝 剞 剣 剤 剤 剤 剥 剥 剥 剩 剩 剪 副 副 剰 剰 剱 割 割 割 剳 剴 創 剽 剿 剿 劃 劃 劇 劇 劇 劇 劈 劈 劉 劍 劑 劑 劑 劒 劔 力 功 加 劣 助 助 努 劫 劬 劭 励 労 劵 効 効 劼 劾 劾 勁 勃 勅 勅 勇 勇 勉 勍 勍 勒 動 動 動 勗 勗 勘 勘 務 勝 勝 勞 募 募 勠 勢 勣 勣 勣 勤 勤 勦 勦 勧 勲 勲 勲 勳 勳 勵 勵 勸 勹 勺 勾 勿 匀 匁 匂 包 匆 匈 匍 匍 匏 匐 匐 匕 化 北 北 匙 匙 匚 匝 匠 匡 匡 匣 匣 匪 匪 匯 匱 匱 匳 匸 匹 区 医 匿 區 十 千 卅 卆 升 午 卉 半 卍 卑 卑 卒 卒 卓 卓 卓 協 南 単 単 博 博 卜 卞 卞 占 占 卦 卩 卮 卯 印 危 即 即 却 卵 卵 卷 卸 卻 卿 卿 卿 卿 厂 厄 厖 厘 厘 厘 厚 厚 原 原 厠 厠 厥 厦 厦 厨 厩 厩 厩 厭 厭 厮 厮 厰 厳 厳 厳 厶 去 参 參 又 叉 叉 及 友 双 反 収 叔 叔 取 取 取 受 叙 叛 叛 叟 叟 叟 叡 叡 叢 叢 叢 口 古 句 叨 叩 只 叫 召 叭 叮 可 台 叱 史 右 叶 号 司 叺 吁 吃 各 合 吉 吊 吋 同 名 后 吏 吐 向 君 吝 吝 吟 吠 否 吩 含 听 吭 吭 吮 吶 吸 吹 吻 吼 吽 吾 呀 呂 呆 呆 呈 呈 呉 告 呎 呑 呑 呟 呟 周 呪 呰 呰 呱 味 味 呵 呶 呷 呷 呻 呻 呼 命 咀 咀 咄 咆 咋 和 和 咎 咏 咐 咒 咢 咤 咤 咥 咥 咨 咫 咬 咬 咬 咯 咲 咳 咳 咸 咼 咼 咽 咾 哀 哀 品 哂 哄 哇 哈 哉 哘 員 哢 哢 哥 哦 哨 哨 哨 哨 哩 哩 哩 哭 哮 哲 哺 哺 哽 哽 唄 唄 唆 唇 唏 唐 唐 唐 唐 唔 唖 售 唯 唱 唱 唳 唸 唹 唹 唾 唾 啀 啄 啅 啅 啅 商 商 啌 啌 問 問 啓 啖 啗 啗 啜 啝 啝 啣 啻 啻 啼 啼 啾 啾 喀 喀 喃 善 喇 喇 喉 喊 喋 喋 喘 喙 喚 喜 喝 喝 喞 喞 喟 喟 喧 喧 喨 喨 喩 喪 喫 喫 喬 單 單 喰 喰 喰 営 喻 嗄 嗄 嗅 嗅 嗇 嗔 嗔 嗚 嗜 嗜 嗟 嗣 嗣 嗤 嗷 嗷 嗹 嗹 嗽 嗽 嗾 嗾 嘆 嘉 嘔 嘖 嘖 嘖 嘗 嘗 嘘 嘘 嘘 嘘 嘘 嘛 嘛 嘩 嘯 嘯 嘯 嘱 嘲 嘲 嘲 嘴 嘶 嘶 嘸 嘸 噂 噂 噂 噌 噌 噌 噎 噐 噛 噛 噤 器 噪 噪 噫 噫 噬 噴 噴 噸 噸 噺 噺 嚀 嚀 嚆 嚆 嚇 嚊 嚊 嚏 嚏 嚔 嚔 嚠 嚢 嚥 嚮 嚮 嚴 嚴 嚴 嚶 嚶 嚼 嚼 囀 囀 囀 囁 囁 囁 囂 囂 囃 囃 囈 囎 囎 囑 囓 囓 囗 囘 囚 四 回 因 団 囮 困 困 囲 図 囹 囹 固 国 国 囿 囿 圀 圀 圃 圃 圄 圈 圉 國 圍 圏 園 圓 圖 圖 團 圜 土 圣 圦 圧 在 圭 地 圷 圸 圻 址 址 坂 均 均 坊 坊 坎 坏 坐 坐 坑 坑 坡 坤 坤 坦 坦 坩 坩 坪 坿 垂 垂 垈 垉 型 垓 垓 垠 垠 垢 垣 垣 垤 垤 垪 垰 垰 垳 埀 埃 埆 埆 埋 埋 埋 城 埒 埓 埔 埔 埖 埜 域 埠 埣 埣 埴 埴 埶 執 培 培 基 基 埼 堀 堂 堅 堅 堆 堊 堋 堋 堕 堕 堙 堝 堝 堡 堡 堤 堤 堪 堪 堯 堰 堰 報 報 場 場 堵 堵 堵 堵 堺 堺 堽 堽 塀 塁 塁 塊 塊 塋 塑 塑 塒 塒 塔 塗 塘 塘 塘 塘 塙 塙 塚 塞 塞 塞 塡 塡 塢 塩 填 填 塰 塲 塲 塵 塵 塹 塹 塾 塾 境 境 墅 墅 墅 墓 墓 増 増 墜 墟 墟 墟 墟 墨 墨 墨 墫 墫 墮 墮 墳 墳 墸 墸 墹 墹 墺 墻 墾 墾 壁 壁 壅 壅 壇 壇 壊 壊 壌 壌 壌 壑 壓 壓 壕 壕 壗 壗 壘 壘 壙 壙 壙 壜 壜 壞 壞 壟 壟 壤 壤 壥 壥 士 壬 壮 壯 声 壱 壱 売 壷 壹 壺 壻 壻 壼 壽 夂 変 変 夊 复 夏 夏 夐 夐 夕 外 夘 夙 多 夛 夛 夜 夜 夢 夥 夥 大 天 天 太 夫 夬 夭 央 失 夲 夷 夸 夾 奄 奄 奇 奈 奉 奎 奏 奐 契 契 奔 奕 奕 套 套 奘 奚 奠 奠 奢 奢 奥 奧 奨 奩 奪 奬 奮 奮 女 奴 奸 好 妁 如 妃 妄 妄 妊 妍 妓 妖 妙 妛 妝 妣 妣 妥 妨 妨 妬 妲 妲 妹 妹 妻 妻 妾 妾 姆 姉 姉 始 姐 姐 姑 姓 姓 委 委 姙 姚 姚 姜 姥 姦 姨 姪 姪 姫 姫 姶 姻 姿 姿 威 娃 娉 娉 娉 娑 娘 娘 娚 娚 娜 娟 娟 娠 娥 娩 娩 娩 娯 娵 娵 娵 娶 娶 娶 娼 娼 婀 婁 婆 婉 婉 婚 婚 婢 婢 婦 婦 婪 婬 婿 婿 媒 媒 媚 媚 媛 媼 媽 媽 媾 媾 嫁 嫁 嫂 嫂 嫉 嫉 嫋 嫌 嫐 嫐 嫖 嫗 嫡 嫡 嫣 嫣 嫦 嫩 嫩 嫺 嫺 嫻 嫻 嬉 嬋 嬋 嬌 嬖 嬖 嬢 嬢 嬢 嬪 嬪 嬬 嬰 嬰 嬲 嬲 嬶 嬶 嬾 嬾 孀 孀 孃 孃 孃 孅 子 孑 孔 孕 字 字 存 孚 孛 孜 孝 孟 季 季 孤 孥 学 孩 孩 孫 孫 孰 孰 孱 孳 孵 孵 學 學 孺 宀 宀 它 它 宅 宅 宇 宇 守 守 安 安 宋 宋 完 完 宍 宍 宏 宏 宕 宕 宗 宗 官 官 宙 宙 宙 定 定 宛 宛 宜 宜 宝 宝 宝 実 実 客 客 宣 宣 室 室 室 宥 宥 宦 宦 宦 宮 宮 宰 宰 害 害 害 宴 宴 宵 宵 家 家 宸 宸 容 容 宿 宿 寂 寂 寂 寃 寃 寄 寄 寅 寅 寅 密 密 密 寇 寇 寉 寉 富 富 寐 寐 寒 寒 寒 寓 寓 寔 寔 寛 寛 寝 寝 寞 寞 察 察 寡 寡 寢 寢 寤 寤 寥 寥 實 實 寧 寧 寨 寨 寨 審 審 寫 寫 寫 寮 寮 寰 寰 寳 寳 寳 寵 寵 寶 寶 寶 寸 寺 対 対 寿 封 専 専 専 専 尃 射 射 尅 将 將 專 尉 尊 尊 尋 尋 對 對 導 導 小 少 尓 尖 尚 尠 尠 尢 尤 尨 尭 就 就 尸 尹 尺 尻 尼 尽 尾 尿 局 屁 屁 居 屆 屈 届 届 届 屋 屋 屍 屎 屎 屏 屐 屑 屑 屑 屑 屓 屓 展 属 屠 屠 屠 屡 層 層 履 履 屬 屮 屯 山 屶 屹 岌 岐 岑 岔 岡 岨 岨 岩 岫 岫 岫 岬 岬 岱 岳 岶 岶 岷 岸 岻 岼 岾 岾 峅 峇 峙 峠 峠 峡 峨 峩 峪 峭 峭 峯 峰 島 島 峺 峺 峻 峽 崇 崇 崋 崎 崑 崑 崔 崕 崖 崗 崘 崘 崙 崙 崚 崛 崟 崢 崩 崩 嵋 嵋 嵌 嵌 嵎 嵎 嵐 嵒 嵜 嵜 嵩 嵩 嵬 嵬 嵯 嵯 嵳 嵳 嵶 嶂 嶂 嶄 嶄 嶇 嶋 嶋 嶌 嶌 嶐 嶐 嶝 嶝 嶝 嶢 嶬 嶮 嶷 嶷 嶺 嶺 嶺 嶼 嶽 巉 巉 巌 巌 巌 巍 巍 巒 巓 巓 巖 巖 巖 巛 川 州 巡 巣 巣 工 左 巧 巨 巨 巫 差 差 己 已 巳 巴 巵 巷 巷 巷 巻 巻 巽 巾 市 市 布 帆 帋 希 帑 帖 帖 帙 帚 帛 帛 帝 帝 帥 師 席 席 帯 帰 帰 帳 帳 帶 帷 常 帽 帽 幀 幀 幀 幃 幄 幄 幅 幅 幇 幌 幌 幎 幎 幔 幔 幕 幕 幗 幟 幟 幡 幡 幢 幢 幢 幣 幤 干 平 年 幵 并 幸 幸 幹 幹 幺 幻 幼 幽 幾 广 广 庁 庁 広 広 庄 庄 庇 庇 床 床 序 序 底 底 庖 庖 庖 店 店 店 庚 庚 府 府 庠 庠 度 度 座 座 座 座 庫 庫 庭 庭 庵 庵 庶 庶 康 康 庸 庸 廁 廁 廂 廂 廃 廃 廃 廃 廈 廈 廉 廉 廊 廊 廏 廏 廐 廐 廓 廓 廖 廖 廚 廚 廛 廛 廛 廝 廝 廟 廟 廟 廟 廠 廠 廡 廡 廡 廢 廢 廢 廢 廣 廣 廣 廨 廨 廩 廩 廬 廬 廬 廬 廬 廰 廰 廰 廱 廱 廳 廳 廳 廳 廳 廴 延 延 廷 廸 廸 廸 建 廻 廻 廻 廼 廾 廿 弁 弃 弃 弄 弄 弉 弊 弋 弌 弍 式 弐 弑 弑 弓 弔 引 弖 弗 弘 弛 弟 弟 弥 弦 弦 弧 弩 弭 弭 弭 弯 弯 弱 張 張 強 弸 弸 弼 弼 弾 弾 彁 彈 彈 彊 彊 彌 彎 彐 彑 当 当 彖 彗 彙 彙 彜 彝 彡 形 彦 彦 彩 彩 彪 彪 彪 彪 彫 彬 彬 彭 彰 彰 影 影 彳 彷 彷 役 彼 彿 往 往 征 征 徂 徂 徃 徃 径 待 徇 徇 很 很 徊 律 後 徐 徑 徒 従 得 得 徘 徘 徘 徙 徙 從 徠 徠 御 徨 徨 徨 復 復 循 循 徭 微 徳 徴 徴 徹 徹 徼 徼 徽 徽 徽 徽 心 忄 必 必 忌 忍 忖 志 忘 忘 忙 忙 応 応 忝 忠 忤 快 忰 忱 念 忸 忻 忽 忿 怎 怏 怐 怒 怕 怕 怖 怙 怛 怛 怜 怜 思 思 怠 怡 急 急 怦 性 性 怨 怩 怪 怫 怯 怱 怺 恁 恂 恂 恃 恆 恊 恋 恋 恍 恐 恒 恒 恕 恙 恚 恟 恠 恢 恢 恣 恤 恥 恥 恥 恨 恨 恩 恪 恫 恬 恭 息 息 恰 恵 恵 恵 恵 恷 恷 悁 悁 悃 悃 悄 悄 悉 悋 悋 悌 悌 悍 悍 悒 悔 悖 悗 悚 悚 悛 悟 悠 患 悦 悧 悧 悩 悪 悲 悲 悳 悳 悴 悴 悵 悵 悶 悶 悸 悸 悼 悼 悼 悽 悽 情 情 情 惆 惇 惇 惑 惓 惘 惘 惚 惜 惜 惟 惠 惠 惡 惣 惣 惧 惧 惨 惰 惰 惱 想 想 惴 惶 惶 惶 惷 惷 惹 惺 惺 惺 惻 惻 愀 愀 愁 愁 愃 愃 愆 愈 愈 愈 愉 愉 愍 愎 愎 意 意 愕 愚 愚 愛 感 愡 愧 愧 愨 愬 愬 愴 愼 愼 愽 愽 愾 愾 愿 愿 慂 慂 慄 慄 慇 慈 慊 態 態 慌 慌 慍 慎 慎 慓 慕 慕 慘 慙 慙 慚 慚 慝 慟 慟 慟 慢 慢 慣 慣 慥 慧 慧 慨 慨 慫 慮 慮 慮 慮 慮 慯 慯 慰 慱 慳 慳 慴 慴 慵 慵 慶 慶 慷 慷 慾 憂 憂 憇 憇 憊 憊 憎 憎 憐 憑 憑 憔 憖 憖 憙 憚 憚 憤 憤 憧 憧 憧 憩 憩 憫 憫 憬 憬 憮 憮 憲 憲 憲 憶 憶 憺 憾 懃 懃 懆 懆 懇 懇 懈 懈 應 懊 懋 懋 懋 懋 懌 懍 懍 懐 懐 懣 懦 懲 懲 懴 懶 懶 懷 懷 懸 懸 懺 懼 懼 懽 懾 懾 懾 懿 戀 戈 戉 戊 戌 戍 戎 成 我 戒 戔 或 戚 戚 戛 戛 戝 戝 戞 戞 戟 戟 戠 戡 戡 戦 戦 截 戮 戯 戯 戯 戯 戯 戯 戯 戯 戰 戰 戲 戲 戲 戲 戳 戴 戴 戸 戻 房 房 所 扁 扁 扁 扇 扈 扉 扉 手 扌 才 扎 打 払 托 扛 扞 扠 扣 扨 扮 扱 扶 批 批 扼 找 承 技 抂 抂 抃 抃 抄 抉 把 抑 抒 抓 抔 投 抖 抗 抗 折 抛 抜 択 披 抬 抱 抵 抹 抹 抻 抻 押 押 抽 抽 抽 拂 担 担 拆 拇 拈 拈 拉 拉 拊 拌 拍 拍 拏 拐 拑 拑 拒 拒 拓 拔 拗 拘 拙 招 拜 拝 拠 拡 拡 括 拭 拮 拯 拱 拳 拵 拶 拷 拷 拾 拿 持 挂 指 指 挈 按 按 挌 挑 挑 挙 挟 挧 挨 挫 挫 振 挺 挺 挺 挽 挽 挽 挾 挿 挿 捉 捌 捍 捍 捏 捏 捐 捐 捕 捕 捗 捗 捗 捜 捜 捧 捨 捩 捫 捫 据 捲 捲 捶 捶 捷 捺 捻 掀 掃 掃 授 掉 掉 掉 掌 掎 掏 排 排 掖 掖 掘 掛 掟 掟 掠 掠 採 採 探 探 掣 接 接 控 控 推 掩 掩 措 措 掫 掫 掫 掬 掬 掲 掲 掴 掴 掵 掻 掾 揀 揀 揃 揃 揃 揄 揆 揆 揆 揉 揉 描 描 提 提 插 插 揖 揖 揖 揚 揚 換 握 握 揣 揩 揩 揮 揮 援 揶 揶 揶 揺 搆 搆 損 搏 搏 搓 搓 搖 搗 搗 搜 搜 搦 搨 搨 搬 搭 搴 搴 搴 搶 携 搾 搾 摂 摂 摂 摎 摑 摘 摘 摧 摩 摩 摯 摶 摸 摸 摺 摺 摺 摺 撃 撃 撈 撒 撒 撓 撕 撕 撚 撞 撞 撞 撤 撤 撥 撥 撥 撩 撩 撫 撫 播 播 撮 撮 撮 撰 撰 撲 撹 撹 撻 撼 擁 擁 擂 擂 擅 擅 擇 操 操 擒 擔 擘 擘 據 據 據 據 擠 擠 擡 擡 擢 擢 擣 擦 擦 擧 擧 擬 擬 擯 擯 擱 擱 擲 擲 擴 擴 擴 擶 擶 擺 擺 擽 擽 擾 擾 攀 攀 攀 攅 攅 攘 攘 攜 攝 攝 攝 攣 攤 攪 攪 攫 攫 攬 攬 攬 支 攴 攵 收 攷 攸 改 改 攻 放 放 政 政 故 效 效 敍 敏 救 敕 敕 敖 敖 敗 敗 敘 教 敝 敞 敢 敢 敢 散 散 敦 敦 敬 数 敲 敲 整 整 敵 敵 敷 敷 敷 敷 數 斂 斃 文 文 斈 斈 斉 斉 斉 斌 斌 斌 斎 斎 斎 斎 斐 斐 斐 斑 斑 斑 斗 料 料 斛 斛 斜 斟 斟 斡 斡 斤 斥 斧 斧 斧 斫 斬 斬 断 斯 斯 新 新 斷 方 方 於 於 施 施 斿 旁 旁 旃 旃 旄 旄 旅 旅 旆 旋 旋 旌 旌 旌 族 族 旒 旒 旗 旗 旙 旙 旛 旛 无 旡 既 既 日 日 旦 旦 旧 旧 旨 旨 早 早 旬 旬 旭 旭 旱 旱 旺 旺 旺 旻 旻 昂 昂 昃 昃 昆 昆 昇 昇 昊 昊 昌 昌 明 明 昏 昏 易 易 昔 昔 昜 昜 星 星 星 映 映 春 春 昧 昧 昨 昨 昭 昭 是 是 昴 昴 昵 昵 昶 昶 昼 昼 昿 昿 晁 晁 晁 時 時 晃 晃 晄 晄 晉 晉 晋 晋 晏 晏 晒 晒 晝 晝 晞 晞 晟 晟 晢 晢 晤 晤 晦 晦 晦 晧 晧 晨 晨 晩 晩 普 普 景 景 晰 晰 晴 晴 晴 晶 晶 智 智 暁 暁 暃 暃 暃 暄 暄 暇 暇 暇 暈 暈 暉 暉 暎 暎 暑 暑 暖 暖 暗 暗 暘 暘 暝 暝 暢 暢 暦 暦 暫 暫 暮 暮 暴 暴 暸 暸 暹 暹 暼 暼 暾 暾 曁 曁 曄 曄 曇 曇 曉 曉 曖 曖 曙 曙 曚 曚 曜 曜 曝 曝 曠 曠 曠 曦 曦 曩 曩 曰 曲 曲 曲 曳 曳 更 更 曵 曷 曷 書 書 曹 曹 曹 曼 曼 曽 曽 曾 曾 替 替 最 最 最 會 會 月 月 有 有 朋 朋 服 服 服 朏 朏 朔 朔 朕 朕 朖 朖 朗 朗 望 望 望 朝 朝 朞 朞 期 期 朦 朦 朧 朧 木 木 未 未 末 末 本 札 札 朮 朮 朱 朱 朴 朴 朶 朶 朷 朷 朸 朸 机 机 朽 朽 朿 朿 杁 杁 杆 杆 杉 杉 李 杏 材 材 村 村 杓 杓 杓 杖 杖 杖 杖 杙 杙 杜 杜 杞 杞 束 束 杠 杠 条 条 杢 杣 杣 杤 杤 来 来 杪 杪 杭 杭 杯 杯 杰 杰 東 東 杲 杲 杳 杳 杵 杵 杷 杷 杼 杼 松 松 板 板 枅 枅 枇 枇 枉 枉 枉 枋 枋 枌 枌 析 析 枕 枕 林 林 枚 枚 果 果 枝 枝 枠 枠 枡 枡 枢 枢 枦 枦 枩 枩 枯 枯 枳 枳 枴 枴 架 架 枷 枷 枸 枸 枹 枹 柁 柁 柄 柄 柆 柆 柊 柊 柎 柎 柏 柏 某 某 柑 柑 染 染 柔 柔 柘 柘 柚 柚 柚 柝 柝 柞 柞 柢 柢 柤 柤 柧 柧 柩 柩 柬 柬 柮 柮 柯 柯 柱 柱 柱 柳 柳 柴 柴 柴 柵 柵 査 査 柾 柾 柾 柿 柿 栂 栂 栃 栃 栄 栄 栓 栓 栓 栖 栖 栗 栗 栞 栞 校 校 栢 栢 栩 栩 株 株 栫 栫 栲 栲 栴 栴 核 核 根 根 格 格 栽 栽 桀 桀 桁 桁 桂 桂 桃 桃 桃 框 框 框 案 案 桍 桍 桎 桎 桎 桐 桐 桑 桑 桓 桓 桔 桔 桙 桙 桜 桜 桝 桝 桟 桟 档 档 桧 桧 桴 桴 桶 桶 桷 桷 桼 桾 桾 桿 桿 梁 梁 梃 梃 梅 梅 梍 梍 梏 梏 梓 梓 梔 梔 梗 梗 梗 梗 梛 梛 梛 條 條 梟 梟 梠 梠 梢 梢 梦 梧 梧 梨 梨 梭 梭 梯 梯 械 械 梱 梱 梳 梳 梵 梶 梶 梹 梹 梺 梼 梼 棄 棄 棆 棆 棉 棉 棊 棊 棋 棋 棍 棍 棒 棒 棔 棔 棕 棕 棗 棗 棘 棘 棘 棚 棚 棟 棟 棠 棠 棡 棡 棣 棣 棧 棧 森 森 棯 棯 棲 棲 棲 棹 棹 棹 棺 棺 椀 椀 椁 椁 椄 椄 椅 椅 椈 椈 椋 椋 椌 椌 植 植 椎 椎 椏 椏 椒 椒 椒 椙 椙 椚 椚 椛 椛 検 検 椡 椡 椡 椢 椢 椢 椣 椣 椣 椥 椥 椦 椦 椨 椨 椪 椪 椰 椰 椰 椴 椴 椶 椶 椹 椹 椽 椽 椿 椿 楊 楊 楓 楓 楔 楔 楕 楕 楙 楙 楚 楜 楜 楝 楝 楞 楞 楠 楠 楡 楡 楢 楢 楢 楪 楪 楫 楫 楫 業 業 楮 楮 楯 楯 楯 楯 楯 楳 楳 楴 楴 極 極 楷 楷 楸 楸 楹 楹 楼 楼 楽 楽 楾 楾 榁 榁 榁 概 概 榊 榊 榊 榊 榎 榎 榑 榑 榔 榔 榔 榕 榕 榛 榛 榜 榜 榠 榠 榧 榧 榧 榮 榮 榱 榱 榲 榲 榴 榴 榻 榻 榾 榾 榾 榿 榿 槁 槁 槃 槃 槇 槇 槊 槊 構 構 槌 槌 槌 槍 槍 槎 槎 槎 槐 槐 槓 槓 様 様 槙 槙 槝 槝 槞 槞 槧 槧 槨 槨 槫 槫 槭 槭 槭 槭 槲 槲 槹 槹 槻 槻 槽 槽 槽 槿 槿 樂 樂 樅 樅 樊 樋 樋 樋 樋 樌 樌 樒 樒 樒 樓 樓 樔 樔 樗 樗 標 標 樛 樛 樞 樞 樟 樟 模 模 樢 樢 樣 樣 権 権 横 横 横 樫 樫 樫 樮 樮 樵 樵 樶 樶 樶 樸 樸 樹 樹 樺 樺 樽 樽 樽 橄 橄 橄 橇 橇 橈 橈 橋 橋 橘 橘 橙 橙 橙 橙 橙 機 機 橡 橡 橢 橢 橦 橦 橦 橲 橲 橸 橸 橿 橿 檀 檀 檄 檄 檍 檍 檎 檐 檐 檗 檗 檜 檜 檠 檠 檢 檢 檣 檣 檪 檪 檬 檬 檮 檮 檳 檳 檸 檸 檻 檻 檻 櫁 櫁 櫁 櫂 櫂 櫃 櫃 櫑 櫑 櫓 櫓 櫚 櫚 櫛 櫛 櫛 櫞 櫟 櫟 櫨 櫨 櫨 櫨 櫨 櫪 櫪 櫺 櫺 櫻 櫻 欄 欄 欅 欅 欅 權 權 欒 欖 欖 欖 欝 欝 欝 欟 欟 欠 次 欣 欧 欲 欷 欸 欹 欺 欺 欽 款 歃 歃 歇 歇 歉 歌 歎 歎 歐 歓 歔 歔 歔 歔 歙 歛 歟 歟 歡 止 止 正 正 此 此 武 武 歩 歩 歪 歪 歯 歯 歳 歳 歳 歳 歴 歴 歴 歸 歸 歹 死 歿 殀 殃 殄 殆 殉 殉 殊 殊 残 殍 殕 殕 殖 殖 殘 殞 殤 殤 殪 殫 殫 殯 殯 殱 殲 殳 殴 段 殷 殺 殺 殻 殼 殿 毀 毀 毅 毅 毆 毋 母 毎 毒 毒 毓 毓 比 比 毘 毘 毛 毟 毫 毫 毬 毯 毳 氈 氈 氏 民 氓 氓 气 気 氛 氣 氣 氤 水 氵 氷 永 氺 氾 汀 汁 求 汎 汐 汕 汗 汚 汝 汞 江 池 汢 汨 汨 汪 汪 汰 汲 汲 汲 汳 決 汽 汾 沁 沂 沃 沈 沌 沍 沐 沐 沒 沓 沓 沖 沙 沚 沚 沛 沛 没 沢 沫 沫 沮 沮 沱 沱 河 沸 油 油 油 沺 沺 治 沼 沽 沾 沾 沿 況 泄 泅 泉 泉 泊 泊 泌 泌 泓 法 泗 泙 泛 泝 泡 波 泣 泣 泥 注 注 泪 泪 泯 泰 泱 泳 洋 洌 洒 洗 洙 洙 洛 洞 洟 津 洩 洩 洪 洫 洲 洳 洵 洵 洶 洸 活 洽 派 流 流 浄 浅 浙 浚 浜 浣 浣 浤 浤 浦 浦 浩 浪 浪 浬 浬 浬 浮 浴 海 浸 浸 浹 涅 涅 消 消 涌 涌 涎 涎 涓 涓 涕 涕 涙 涛 涜 涯 液 液 涵 涸 涼 涼 淀 淀 淅 淅 淆 淆 淇 淇 淋 淋 淌 淑 淑 淒 淒 淕 淘 淙 淙 淞 淞 淡 淤 淤 淦 淨 淪 淪 淫 淫 淬 淬 淮 深 深 淳 淳 淵 混 混 淹 淹 淺 添 清 清 清 渇 渇 済 済 渉 渉 渊 渋 渋 渓 渕 渙 渚 渚 減 渝 渟 渟 渠 渠 渠 渡 渡 渣 渣 渤 渥 渥 渦 渦 温 温 渫 渫 測 測 渭 渭 渮 港 港 游 游 渺 渺 渾 渾 湃 湊 湍 湎 湖 湖 湘 湘 湛 湛 湟 湟 湟 湧 湧 湫 湫 湮 湯 湯 湲 湶 湶 湾 湾 湿 湿 満 溂 溂 溌 溌 溌 溏 溏 溏 溏 源 源 準 溘 溜 溜 溝 溝 溟 溟 溢 溢 溥 溥 溪 溯 溯 溲 溲 溶 溶 溷 溺 溺 溽 滂 滂 滄 滅 滉 滉 滋 滌 滌 滑 滑 滑 滓 滓 滔 滔 滕 滕 滝 滝 滞 滬 滯 滲 滴 滴 滷 滸 滾 滾 滿 漁 漁 漂 漆 漉 漉 漏 漑 漑 漓 演 演 演 漕 漕 漕 漠 漠 漢 漣 漣 漣 漣 漫 漫 漬 漬 漬 漱 漱 漲 漲 漸 漸 漾 漿 潁 潁 潅 潔 潔 潘 潘 潛 潛 潜 潜 潟 潟 潤 潤 潤 潦 潦 潭 潭 潮 潮 潯 潰 潰 潴 潴 潸 潸 潺 潼 潼 潼 澀 澀 澁 澁 澂 澂 澄 澄 澄 澆 澎 澑 澑 澗 澗 澡 澡 澣 澣 澤 澪 澪 澱 澳 澹 激 激 濁 濂 濂 濃 濃 濃 濆 濆 濔 濕 濕 濘 濘 濛 濟 濟 濠 濠 濡 濤 濫 濫 濬 濬 濮 濯 濱 濱 濳 濳 濶 濶 濺 濺 濾 濾 濾 濾 濾 瀁 瀁 瀁 瀉 瀉 瀉 瀋 瀋 瀏 瀑 瀑 瀕 瀕 瀕 瀕 瀘 瀘 瀘 瀘 瀘 瀚 瀚 瀛 瀛 瀛 瀝 瀝 瀞 瀞 瀞 瀞 瀟 瀟 瀟 瀦 瀦 瀦 瀧 瀧 瀬 瀬 瀰 瀲 瀾 瀾 灌 灑 灑 灘 灘 灣 火 灬 灯 灰 灸 灸 灼 灼 災 炉 炊 炎 炒 炙 炬 炬 炭 炮 炯 炳 炸 点 点 為 烈 烋 烋 烏 烙 烝 烟 烟 烱 烹 烹 烽 焉 焉 焔 焔 焙 焙 焚 焜 焜 無 無 無 焦 然 焼 煉 煉 煉 煌 煌 煌 煎 煎 煎 煕 煖 煙 煢 煤 煤 煥 煦 煦 照 照 煩 煩 煬 煬 煮 煮 煽 煽 熄 熄 熈 熈 熊 熊 熏 熏 熔 熔 熕 熕 熙 熟 熟 熨 熬 熬 熱 熹 熾 熾 燃 燈 燈 燈 燉 燉 燎 燎 燐 燐 燒 燔 燔 燕 燗 燗 營 燠 燥 燥 燦 燦 燧 燬 燬 燭 燮 燵 燹 燻 燻 燼 燼 燿 爆 爆 爍 爍 爐 爐 爐 爐 爐 爛 爛 爨 爨 爪 爬 爭 爰 爲 爵 爵 父 爺 爺 爺 爺 爺 爻 爼 爼 爽 爾 爿 牀 牀 牆 片 版 牋 牌 牌 牌 牒 牒 牘 牘 牙 牙 牛 牝 牝 牟 牡 牡 牢 牢 牧 牧 物 物 牲 牲 牲 牴 牴 特 特 牽 牽 牽 牽 牾 牾 犀 犁 犁 犂 犂 犇 犇 犒 犒 犖 犠 犠 犢 犢 犧 犧 犬 犯 犲 状 犹 狂 狂 狃 狄 狆 狎 狎 狐 狒 狗 狙 狙 狛 狛 狠 狠 狡 狡 狡 狢 狩 狩 独 狭 狷 狷 狸 狸 狸 狹 狼 狼 狽 狽 猊 猊 猖 猖 猗 猛 猜 猜 猝 猝 猟 猟 猥 猥 猩 猩 猩 猪 猪 猫 猫 献 猯 猴 猶 猶 猷 猷 猷 猾 猾 猾 猿 獄 獅 獎 獏 獏 獗 獣 獣 獨 獪 獪 獰 獰 獲 獵 獸 獸 獺 獺 獻 獻 獻 獻 玄 玄 率 率 玉 玉 王 王 玖 玖 玩 玲 玲 玲 玳 玳 玻 玻 珀 珀 珀 珂 珈 珈 珊 珊 珍 珍 珎 珎 珞 珞 珠 珠 珠 珥 珥 珥 珥 珪 珪 班 班 珮 珮 珱 珱 珸 珸 現 現 現 球 球 琅 琅 琅 理 理 理 琉 琉 琉 琢 琢 琥 琥 琥 琥 琥 琥 琥 琥 琲 琲 琳 琳 琳 琴 琴 琵 琵 琵 琶 琶 琺 琺 琿 琿 琿 瑁 瑁 瑁 瑕 瑕 瑙 瑙 瑚 瑚 瑚 瑛 瑛 瑜 瑜 瑞 瑞 瑟 瑟 瑠 瑠 瑠 瑣 瑣 瑣 瑤 瑤 瑩 瑩 瑪 瑪 瑪 瑪 瑯 瑯 瑯 瑰 瑰 瑰 瑳 瑳 瑳 瑳 瑶 瑶 瑾 瑾 璃 璋 璋 璋 璞 璞 璢 璢 璢 璧 璧 璧 環 環 璽 璽 瓊 瓊 瓊 瓏 瓏 瓏 瓔 瓔 瓔 瓜 瓠 瓢 瓣 瓣 瓦 瓦 瓧 瓩 瓮 瓰 瓱 瓲 瓶 瓷 瓸 甃 甄 甅 甌 甍 甎 甑 甑 甓 甕 甕 甘 甘 甚 甚 甜 甜 甞 甞 生 生 産 産 産 甥 甥 甥 甦 甦 甦 甦 用 用 甫 甫 甬 甬 田 田 由 由 由 甲 甲 申 申 男 男 甸 甸 町 町 画 画 画 甼 甼 畄 畄 畆 畆 畉 畉 畊 畊 畋 畋 界 界 畍 畍 畏 畏 畐 畑 畑 畔 畔 留 留 畚 畚 畛 畛 畜 畜 畝 畝 畠 畠 畢 畢 畤 畤 略 略 畦 畦 畧 畧 畩 畩 番 番 畫 畫 畫 畭 畭 異 異 畳 畳 畴 畴 當 當 畷 畷 畸 畸 畿 畿 疂 疂 疆 疆 疇 疇 疉 疉 疊 疊 疋 疎 疎 疏 疏 疑 疑 疒 疒 疔 疔 疚 疚 疝 疝 疣 疣 疥 疥 疫 疫 疱 疱 疲 疲 疳 疳 疵 疵 疵 疸 疸 疹 疹 疼 疼 疼 疽 疽 疾 疾 痂 痂 痃 痃 病 病 症 症 症 痊 痊 痊 痍 痍 痒 痒 痔 痔 痕 痕 痘 痘 痙"
     ]
    },
    {
     "name": "stdout",
     "output_type": "stream",
     "text": [
      " 痙 痛 痛 痞 痞 痢 痢 痣 痣 痩 痩 痰 痰 痲 痲 痳 痳 痴 痴 痺 痺 痼 痼 痾 痾 痿 痿 瘁 瘁 瘉 瘉 瘋 瘋 瘍 瘍 瘟 瘟 瘠 瘠 瘡 瘡 瘢 瘢 瘤 瘤 瘧 瘧 瘧 瘧 瘧 瘰 瘰 瘴 瘴 瘻 瘻 療 療 癆 癆 癇 癇 癈 癈 癈 癈 癌 癌 癒 癒 癖 癖 癘 癘 癜 癜 癡 癡 癢 癢 癢 癧 癧 癧 癨 癨 癩 癩 癪 癪 癪 癬 癬 癰 癰 癲 癲 癶 癶 癶 癸 癸 癸 発 発 発 登 登 登 發 發 發 白 白 百 百 皀 皀 皃 皃 的 的 皆 皆 皇 皇 皇 皈 皈 皋 皋 皎 皎 皐 皐 皓 皓 皖 皖 皙 皙 皚 皚 皮 皰 皴 皷 皸 皸 皹 皹 皺 皿 盂 盃 盆 盈 益 盍 盒 盖 盗 盛 盜 盞 盟 盟 盡 盡 監 監 盤 盥 盧 盧 盧 盧 盧 盪 盪 目 目 盲 盲 直 直 相 相 盻 盻 盾 盾 省 省 眄 眄 眇 眇 眈 眈 眉 眉 看 看 県 県 眛 眛 眞 眞 真 真 眠 眠 眤 眤 眥 眦 眩 眩 眷 眷 眸 眸 眺 眺 眺 眼 眼 着 着 着 睇 睇 睚 睚 睛 睛 睛 睡 睡 睡 督 督 督 睥 睥 睦 睦 睨 睨 睨 睫 睫 睹 睹 睾 睾 睿 睿 瞋 瞋 瞎 瞎 瞑 瞑 瞞 瞞 瞠 瞠 瞥 瞥 瞥 瞥 瞬 瞬 瞭 瞭 瞰 瞰 瞰 瞳 瞳 瞳 瞶 瞶 瞹 瞹 瞻 瞻 瞼 瞼 瞽 瞽 瞿 瞿 矇 矇 矍 矍 矗 矗 矚 矚 矛 矜 矢 矣 知 矧 矩 矩 短 矮 矯 石 矼 砂 砌 砒 砒 研 砕 砠 砠 砥 砦 砦 砧 砧 砲 破 砺 砿 砿 硅 硝 硝 硫 硫 硬 硬 硯 硯 硲 硴 硼 硼 碁 碁 碆 碇 碇 碌 碍 碍 碎 碎 碑 碑 碓 碕 碗 碗 碚 碚 碣 碣 碧 碧 碧 碩 碩 碪 碪 碯 碵 碵 碵 確 碼 碼 碾 磁 磅 磅 磆 磆 磆 磊 磋 磋 磐 磑 磔 磔 磔 磚 磧 磧 磧 磨 磨 磬 磯 磴 磴 磴 磽 礁 礇 礎 礑 礑 礒 礙 礙 礦 礦 礦 礪 礪 礫 礫 礬 礬 示 礻 礼 社 祀 祁 祁 祇 祇 祈 祉 祉 祐 祓 祕 祕 祖 祖 祗 祚 祝 神 神 祟 祟 祠 祢 祥 票 祭 祷 祺 祺 祿 禀 禀 禁 禁 禄 禄 禅 禅 禊 禍 禍 禎 禎 禎 福 福 禝 禝 禦 禧 禪 禪 禮 禮 禮 禰 禰 禳 禳 禸 禹 禺 禺 离 禽 禾 禾 禿 秀 秀 私 私 秉 秉 秋 秋 科 科 秒 秒 秕 秕 秘 秘 秘 租 租 秡 秡 秣 秣 秤 秤 秤 秦 秦 秧 秧 秩 秩 秬 秬 秬 称 称 移 移 稀 稀 稈 稈 程 程 程 稍 稍 税 税 稔 稔 稗 稗 稗 稘 稘 稙 稙 稚 稚 稜 稜 稟 稟 稠 稠 種 種 種 稱 稱 稲 稲 稷 稷 稻 稻 稻 稼 稼 稽 稽 稾 稾 稿 稿 穀 穀 穂 穂 穂 穂 穃 穃 穆 穆 穉 穉 積 積 積 穎 穎 穏 穏 穐 穐 穗 穗 穡 穡 穢 穢 穢 穢 穣 穣 穩 穩 穫 穫 穰 穰 穴 穴 究 究 穹 穹 空 空 穽 穽 穿 穿 穿 穿 突 突 窃 窃 窄 窄 窈 窈 窒 窒 窒 窓 窓 窕 窕 窕 窖 窖 窗 窗 窘 窘 窟 窟 窩 窩 窩 窪 窪 窮 窮 窯 窯 窯 窰 窰 窶 窶 窺 窺 窿 窿 窿 竃 竃 竄 竄 竄 竅 竅 竇 竇 竈 竈 竈 竊 竊 竊 立 立 竍 竍 竏 竏 竒 竒 竓 竓 竕 竕 站 站 站 竚 竚 竜 竜 竝 竝 竟 竟 章 章 竡 竡 竢 竢 竣 竣 童 童 童 竦 竦 竪 竪 竪 竭 竭 端 端 竰 竰 竰 競 競 竸 竸 竹 竺 竿 笂 笄 笆 笈 笈 笊 笋 笏 笑 笘 笘 笙 笙 笛 笛 笛 笞 笠 笠 笥 符 笨 第 第 笳 笵 笶 笹 筅 筆 筈 等 筋 筋 筌 筌 筍 筍 筏 筐 筐 筑 筒 答 策 策 筝 筥 筧 筧 筬 筮 筰 筱 筴 筵 筵 筵 筺 筺 箆 箆 箇 箋 箍 箏 箒 箔 箔 箕 箕 算 算 箘 箘 箙 箙 箙 箚 箜 箜 箝 箝 箟 箟 管 管 箪 箪 箭 箭 箭 箱 箱 箴 箸 箸 箸 箸 節 節 篁 篁 篁 範 範 篆 篇 篇 篇 篇 篇 築 築 篋 篌 篏 篏 篝 篝 篝 篠 篠 篤 篤 篥 篥 篦 篦 篩 篭 篭 篳 篳 篶 篶 篷 簀 簀 簀 簇 簇 簍 簑 簑 簒 簒 簓 簔 簔 簗 簗 簟 簟 簡 簡 簣 簣 簧 簧 簪 簪 簫 簫 簫 簷 簸 簸 簽 簾 簾 簾 簾 簿 簿 籀 籀 籃 籃 籌 籍 籍 籏 籏 籐 籐 籔 籖 籘 籘 籟 籟 籠 籠 籤 籥 籥 籬 籬 米 米 籵 籵 籾 籾 籾 籾 粁 粁 粂 粂 粂 粃 粃 粉 粉 粋 粋 粍 粍 粐 粐 粒 粒 粕 粕 粗 粗 粘 粘 粘 粛 粟 粟 粡 粡 粢 粢 粤 粥 粥 粧 粧 粨 粨 粫 粫 粭 粭 粮 粮 粱 粱 粲 粲 粳 粳 粹 粹 粽 粽 精 精 精 糀 糀 糂 糂 糅 糅 糊 糊 糎 糎 糎 糒 糒 糖 糖 糖 糖 糘 糘 糜 糜 糞 糞 糟 糟 糟 糠 糠 糢 糢 糧 糧 糧 糯 糯 糲 糲 糴 糴 糶 糶 糸 糸 糺 系 系 糾 紀 紂 約 紅 紆 紊 紊 紋 納 紐 純 紕 紗 紘 紙 級 紛 紜 素 素 素 紡 索 索 紫 紫 紫 紬 紮 紮 累 累 細 紲 紳 紵 紹 紺 紿 終 絃 組 絅 絆 絋 経 絎 絏 結 絖 絛 絛 絞 絡 絢 絣 給 絨 絮 絮 統 絲 絳 絵 絶 絹 絽 綉 綏 經 継 続 綛 綜 綟 綢 綣 綫 綬 維 綮 綮 綯 綰 綱 網 綴 綵 綸 綺 綻 綽 綾 綿 緇 緊 緊 緊 緋 総 緑 緒 緕 緕 緘 線 緜 緜 緝 緞 締 緡 緤 編 緩 緬 緯 緲 練 緻 縁 縄 縅 縉 縊 縋 縒 縛 縞 縞 縟 縡 縢 縢 縣 縣 縦 縫 縮 縱 縲 縵 縷 縹 縺 縻 縻 總 績 繁 繁 繃 繆 繊 繋 繋 繋 繋 繍 織 繕 繖 繙 繚 繝 繞 繦 繧 繩 繪 繭 繰 繹 繻 繼 繽 繿 纂 纂 纃 纈 纉 續 纎 纏 纐 纒 纓 纔 纖 纛 纛 纛 纜 缶 缸 缺 罅 罅 罅 罅 罌 罌 罍 罍 罎 罎 罐 网 罒 罔 罔 罕 罘 罟 罠 罧 罧 罨 罨 罩 罩 罩 罪 罪 罫 置 置 罰 署 署 罵 罵 罷 罷 罸 罹 羂 羃 羃 羅 羆 羆 羇 羈 羈 羊 羌 美 美 美 羔 羔 羚 羚 羝 羞 羞 羣 群 羨 義 羮 羮 羯 羯 羲 羶 羶 羸 羸 羸 羹 羹 羽 羽 翁 翅 翆 翊 翊 翌 翌 習 習 翔 翕 翠 翠 翡 翡 翦 翩 翩 翫 翫 翫 翰 翰 翰 翳 翹 翻 翻 翼 翼 耀 老 老 耂 考 考 耄 者 者 耆 耆 耋 耋 而 耐 耒 耒 耕 耕 耗 耗 耘 耘 耙 耙 耜 耜 耡 耡 耨 耨 耳 耳 耳 耶 耶 耶 耻 耻 耻 耻 耻 耽 耽 耽 耿 耿 耿 聆 聆 聆 聆 聊 聊 聊 聒 聒 聒 聖 聖 聖 聖 聖 聘 聘 聘 聘 聚 聚 聚 聞 聞 聞 聟 聟 聟 聡 聡 聡 聢 聢 聢 聨 聨 聨 聯 聯 聯 聰 聰 聰 聲 聲 聲 聳 聳 聳 聴 聴 聴 聶 聶 聶 職 職 職 聹 聹 聹 聽 聽 聽 聽 聽 聾 聾 聾 聿 肄 肅 肅 肅 肆 肆 肇 肉 肋 肋 肌 肌 肓 肓 肖 肖 肘 肘 肚 肚 肛 肛 肝 肝 股 股 肢 肢 肥 肥 肩 肩 肪 肪 肬 肬 肭 肭 肯 肯 肯 肱 肱 育 育 肴 肴 肺 肺 胃 胃 胄 胄 胄 胆 胆 背 背 胎 胎 胖 胖 胙 胙 胚 胚 胛 胛 胝 胝 胞 胞 胡 胡 胤 胤 胥 胥 胯 胯 胱 胱 胴 胴 胸 胸 胼 胼 能 能 脂 脂 脅 脅 脆 脆 脇 脇 脈 脈 脉 脉 脊 脊 脚 脚 脛 脛 脣 脣 脩 脩 脯 脯 脱 脱 脳 脳 脹 脹 脹 脾 脾 腆 腆 腆 腋 腋 腎 腎 腎 腐 腐 腑 腑 腓 腓 腓 腔 腔 腕 腕 腟 腟 腟 腥 腥 腥 腦 腦 腫 腫 腫 腮 腮 腰 腰 腱 腱 腱 腴 腴 腸 腸 腹 腹 腺 腺 腿 腿 腿 腿 膀 膀 膂 膂 膃 膃 膈 膈 膊 膊 膏 膏 膏 膓 膓 膕 膕 膚 膚 膚 膚 膚 膜 膜 膝 膝 膠 膠 膣 膣 膣 膤 膤 膨 膨 膩 膩 膰 膰 膳 膳 膵 膵 膸 膸 膺 膺 膽 膽 膾 膾 膿 膿 膿 臀 臀 臂 臂 臆 臆 臈 臈 臉 臉 臍 臍 臑 臑 臓 臓 臓 臓 臘 臘 臙 臙 臚 臚 臚 臚 臚 臟 臟 臟 臟 臠 臣 臣 臥 臥 臧 臧 臧 臨 臨 自 自 臭 臭 至 至 致 致 臺 臺 臻 臻 臻 臼 臼 臾 舁 舁 舂 舂 舅 舅 舅 與 與 興 興 舉 舉 舊 舊 舌 舍 舎 舐 舒 舖 舖 舗 舗 舘 舘 舛 舜 舞 舞 舞 舟 舩 航 航 舫 舫 般 舮 舳 舳 舳 舵 舵 舶 舶 舷 舷 舸 船 船 艀 艇 艘 艘 艘 艙 艚 艚 艚 艝 艟 艟 艟 艢 艤 艦 艦 艨 艪 艪 艫 艫 艫 艫 艫 艮 艮 良 良 艱 艱 色 艶 艶 艶 艷 艸 艹 艾 芋 芍 芒 芒 芒 芙 芝 芟 芥 芦 芦 芫 芬 芭 芯 花 芳 芳 芸 芹 芻 芽 苅 苑 苒 苓 苓 苔 苗 苗 苙 苙 苛 苜 苜 苞 苟 苡 苣 苣 若 苦 苧 苧 苫 苫 英 英 苳 苴 苴 苹 苺 苻 茂 范 茄 茅 茆 茉 茉 茎 茖 茗 茘 茜 茣 茨 茨 茫 茫 茯 茱 茱 茲 茴 茵 茶 茶 茸 茸 茸 茹 荀 荀 荅 草 草 荊 荏 荐 荒 荒 荘 荳 荵 荷 荻 荼 莅 莅 莇 莇 莉 莉 莊 莎 莓 莖 莚 莚 莞 莞 莟 莠 莠 莢 莨 莨 莪 莫 莫 莱 莱 莱 莵 莽 菁 菁 菅 菅 菊 菊 菌 菌 菎 菎 菓 菓 菖 菖 菘 菘 菜 菜 菟 菠 菩 菩 菫 菫 華 菰 菱 菲 菲 菴 菴 菷 菻 菻 菽 菽 萃 萃 萄 萇 萇 萋 萋 萌 萌 萍 萎 萓 萓 萠 萢 萩 萩 萪 萪 萬 萬 萱 萱 萵 萵 萸 萼 落 葆 葆 葉 葉 葎 著 著 葛 葛 葛 葛 葡 葡 葢 董 董 董 葦 葩 葩 葫 葫 葬 葭 葭 葮 葯 葱 葵 葵 葵 葷 葷 葹 葹 葺 葺 葺 蒂 蒂 蒄 蒋 蒐 蒐 蒔 蒔 蒙 蒜 蒟 蒟 蒡 蒡 蒭 蒲 蒲 蒸 蒹 蒻 蒼 蒿 蒿 蓁 蓁 蓄 蓄 蓆 蓆 蓉 蓉 蓊 蓋 蓍 蓍 蓐 蓑 蓑 蓖 蓖 蓙 蓙 蓙 蓙 蓚 蓬 蓬 蓮 蓮 蓴 蓼 蓿 蓿 蔀 蔀 蔆 蔑 蔑 蔓 蔓 蔔 蔔 蔕 蔗 蔗 蔘 蔚 蔟 蔟 蔡 蔣 蔦 蔦 蔬 蔬 蔭 蔵 蔵 蔵 蔽 蔽 蕀 蕀 蕁 蕃 蕃 蕈 蕈 蕉 蕊 蕋 蕎 蕕 蕕 蕗 蕘 蕚 蕣 蕨 蕩 蕩 蕪 蕪 蕭 蕭 蕭 蕷 蕷 蕾 蕾 薀 薄 薄 薇 薈 薈 薊 薊 薐 薐 薑 薑 薔 薗 薙 薛 薛 薜 薜 薤 薦 薦 薨 薩 薩 薩 薩 薩 薪 薪 薫 薫 薫 薬 薬 薮 薯 薯 薯 薹 薹 薺 薺 藁 藁 藉 藉 藍 藍 藏 藏 藏 藐 藐 藕 藕 藜 藜 藝 藤 藤 藥 藥 藩 藩 藪 藷 藷 藷 藹 藹 藺 藺 藻 藻 藾 藾 蘂 蘂 蘆 蘆 蘆 蘆 蘆 蘇 蘇 蘊 蘋 蘋 蘋 蘓 蘓 蘖 蘖 蘗 蘗 蘚 蘚 蘢 蘢 蘭 蘭 蘯 蘯 蘰 蘿 虍 虍 虍 虍 虎 虎 虎 虎 虐 虐 虐 虐 虔 虔 虔 虔 虔 虔 處 處 處 處 虚 虚 虚 虚 虜 虜 虜 虜 虜 虞 虞 虞 虞 號 號 號 號 虧 虧 虧 虧 虫 虱 虹 虻 虻 蚊 蚊 蚋 蚌 蚓 蚕 蚕 蚣 蚤 蚩 蚪 蚫 蚯 蚰 蚰 蚰 蚶 蚶 蛄 蛆 蛆 蛇 蛇 蛉 蛉 蛋 蛍 蛎 蛔 蛙 蛛 蛛 蛞 蛟 蛟 蛤 蛩 蛬 蛭 蛮 蛮 蛯 蛸 蛸 蛸 蛹 蛹 蛻 蛾 蜀 蜂 蜃 蜃 蜆 蜆 蜈 蜉 蜊 蜊 蜍 蜑 蜑 蜒 蜒 蜘 蜚 蜚 蜜 蜜 蜜 蜥 蜥 蜩 蜴 蜴 蜷 蜻 蜻 蜿 蜿 蝉 蝉 蝋 蝋 蝌 蝌 蝎 蝎 蝓 蝕 蝕 蝕 蝕 蝗 蝗 蝗 蝙 蝙 蝟 蝟 蝠 蝠 蝣 蝣 蝦 蝨 蝪 蝪 蝮 蝮 蝴 蝴 蝶 蝶 蝸 蝸 蝿 蝿 螂 螂 融 螟 螟 螢 螫 螯 螯 螳 螺 螺 螻 螽 蟀 蟀 蟄 蟆 蟆 蟇 蟇 蟋 蟐 蟒 蟠 蟠 蟯 蟲 蟶 蟶 蟶 蟷 蟷 蟹 蟹 蟻 蟾 蠅 蠅 蠍 蠍 蠎 蠏 蠏 蠑 蠑 蠕 蠖 蠡 蠢 蠢 蠣 蠣 蠧 蠱 蠶 蠶 蠹 蠻 血 衂 衄 衆 行 衍 衒 衒 術 術 街 衙 衛 衝 衝 衝 衞 衡 衡 衢 衢 衣 衣 衤 表 表 衫 衰 衰 衲 衵 衵 衷 衷 衽 衾 衾 衿 袁 袂 袈 袈 袋 袋 袍 袒 袒 袖 袖 袖 袗 袙 袙 袞 袞 袢 袤 袤 被 袮 袰 袰 袱 袴 袵 袷 袿 裁 裁 裂 裂 裃 裃 裄 装 装 裏 裏 裏 裔 裔 裕 裘 裘 裙 補 補 裝 裝 裟 裟 裡 裡 裡 裨 裨 裲 裳 裳 裴 裴 裴 裸 裸 裹 裹 裼 裼 製 製 裾 褂 褄 褄 複 複 褊 褊 褌 褌 褐 褐 褒 褒 褓 褓 褝 褝 褞 褥 褪 褪 褫 褫 褫 褫 褶 褶 褸 褻 褻 襁 襃 襃 襄 襄 襌 襌 襍 襍 襖 襖 襞 襞 襟 襠 襠 襤 襤 襦 襪 襭 襭 襯 襯 襲 襲 襴 襴 襷 襷 襾 西 要 覃 覃 覆 覆 覇 覇 覈 覈 覊 覊 見 見 規 規 覓 覓 視 視 覗 覗 覘 覘 覘 覚 覚 覡 覡 覦 覦 覧 覧 覧 覩 覩 親 親 覬 覬 覯 覯 覲 覲 観 観 覺 覺 覽 覽 覽 覿 覿 觀 觀 角 角 觚 觚 觜 觝 觝 解 解 触 触 觧 觧 觴 觴 觸 觸 言 訂 訃 計 訊 訊 訌 討 訐 訓 訖 託 記 訛 訝 訝 訟 訣 訥 訪 訪 設 許 訳 訴 訶 診 註 註 註 証 証 詁 詆 詈 詐 詑 詑 詒 詔 評 詛 詛 詞 詠 詢 詢 詣 詣 試 詩 詫 詫 詬 詭 詮 詮 詮 詰 話 該 該 詳 詼 誂 誂 誄 誄 誅 誅 誇 誉 誌 認 誑 誑 誓 誕 誕 誘 誘 誚 誚 語 誠 誡 誣 誤 誥 誦 誦 誨 説 読 誰 課 課 誹 誹 誹 誹 誼 誼 調 諂 諂 諄 諄 談 請 請 請 諌 諌 諍 諏 諏 諏 諒 諒 論 論 諚 諚 諛 諜 諜 諞 諞 諠 諠 諡 諢 諢 諤 諦 諦 諧 諧 諫 諫 諭 諭 諮 諱 諳 諳 諷 諸 諸 諺 諺 諺 諺 諾 謀 謀 謁 謁 謂 謂 謄 謄 謇 謇 謌 謎 謎 謎 謎 謐 謐 謔 謔 謔 謔 謖 謖 謗 謗 謙 謚 講 講 謝 謝 謠 謡 謦 謨 謨 謫 謫 謬 謬 謳 謹 謹 謾 謾 譁 證 證 證 譌 譎 譏 譖 譖 識 識 譚 譚 譛 譛 譜 譜 譟 譟 警 譫 譬 譬 譯 議 譱 譲 譲 譲 譴 護 譽 譽 讀 讀 讃 讃 變 讌 讎 讐 讒 讒 讓 讓 讓 讖 讙 讚 讚 谷 谺 谿 豁 豁 豆 豈 豊 豊 豊 豌 豌 豎 豎 豐 豕 豚 豚 象 豢 豪 豪 豫 豬 豬 豸 豹 豹 豺 豼 豼 貂 貅 貅 貉 貊 貊 貌 貌 貍 貍 貍 貎 貎 貔 貔 貘 貘 貝 貝 貞 貞 貞 負 負 財 財 貢 貢 貧 貧 貨 販 販 貪 貪 貫 貫 責 責 責 貭 貭 貮 貮 貯 貯 貰 貰 貲 貳 貳 貴 貴 貶 貶 買 貸 貸 費 費 貼 貼 貼 貽 貽 貿 貿 賀 賀 賁 賁 賂 賂 賃 賃 賄 賄 資 資 賈 賈 賊 賊 賍 賍 賎 賎 賑 賑 賓 賓 賚 賚 賛 賛 賜 賜 賞 賞 賠 賠 賢 賢 賢 賣 賣 賤 賤 賦 賦 賦 質 質 賭 賭 賭 賭 賺 賺 賻 賻 購 購 賽 賽 贄 贄 贅 贅 贇 贇 贇 贈 贈 贊 贊 贋 贋 贍 贍 贏 贏 贏 贐 贐 贐 贓 贓 贓 贓 贔 贔 贖 贖 赤 赦 赧 赫 赭 赭 走 赱 赳 赴 起 起 趁 超 越 趙 趙 趣 趣 趣 趨 足 趺 趾 趾 跂 跋 跌 跏 跖 跚 跛 距 距 跟 跟 跡 跡 跣 跨 跪 跫 路 跳 跳 践 跼 跿 踈 踈 踉 踉 踊 踊 踏 踏 踐 踝 踝 踞 踟 踪 踪 踰 踴 踴 踵 踵 踵 蹂 蹂 蹄 蹄 蹇 蹇 蹈 蹈 蹉 蹉 蹊 蹌 蹐 蹐 蹕 蹕 蹙 蹙 蹙 蹟 蹟 蹟 蹠 蹠 蹣 蹤 蹲 蹲 蹴 蹴 蹶 蹼 躁 躁 躄 躄 躅 躇 躇 躊 躋 躋 躍 躑 躑 躓 躓 躔 躔 躔 躙 躙 躡 躡 躡 躪 躪 身 身 躬 躬 躯 躯 躰 躰 躱 躱 躾 躾 躾 軅 軅 軆 軆 軆 軈 軈 車 車 軋 軋 軌 軌 軍 軍 軒 軒 軛 軛 軟 軟 転 転 軣 軣 軫 軫 軸 軸 軸 軻 軻 軼 軼 軽 軽 軾 軾 較 較 輅 輅 載 載 輊 輊 輊 輌 輌 輒 輒 輒 輓 輓 輔 輔 輕 輕 輙 輙 輙 輛 輛 輜 輜 輝 輝 輟 輟 輦 輦 輩 輩 輩 輪 輪 輯 輯 輯 輳 輳 輸 輸 輹 輹 輻 輻 輾 輾 輿 輿 轂 轂 轄 轄 轄 轅 轅 轆 轆 轉 轉 轌 轌 轍 轍 轎 轎 轗 轗 轜 轜 轟 轟 轡 轢 轢 轣 轣 轣 轤 轤 轤 轤 轤 辛 辛 辜 辜 辞 辞 辟 辟 辣 辣 辧 辧 辨 辨 辭 辭 辮 辮 辯 辯 辰 辱 農 農 農 辶 辷 辺 辻 辻 込 辿 辿 迂 迂 迄 迄 迅 迎 近 返 迚 迢 迥 迦 迦 迩 迪 迪 迪 迫 迫 迭 迯 述 述 迴 迷 迷 迸 迹 迹 迺 追 退 退 送 逃 逃 逅 逆 逋 逋 逍 逍 逎 逎 透 透 逐 逑 逓 途 逕 逖 逗 逗 這 這 通 通 逝 逞 逞 速 速 造 逡 逢 逢 連 連 逧 逮 週 進 逵 逶 逸 逹 逼 逼 逼 逾 遁 遁 遁 遁 遂 遅 遇 遇 遉 遉 遉 遊 遊 運 運 遍 遍 過 過 遏 遏 遐 遑 遑 遑 遒 遒 道 道 達 違 遖 遘 遘 遙 遜 遜 遞 遞 遞 遞 遠 遡 遡 遡 遡 遣 遥 遨 遨 適 適 遭 遭 遭 遮 遮 遯 遯 遲 遵 遵 遶 遷 選 遺 遺 遼 遼 遽 遽 遽 遽 避 避 邀 邀 邁 邁 邂 邂 邃 邃 還 邇 邉 邉 邊 邊 邏 邑 那 邦 邨 邪 邯 邯 邱 邵 邸 郁 郁 郊 郊 郎 郎 郛 郡 郢 郤 部 部 郭 郭 郵 郵 郷 郷 都 都 鄂 鄒 鄙 鄙 鄭 鄭 鄭 鄰 鄲 鄲 酉 酉 酊 酊 酋 酋 酋 酌 酌 配 配 酎 酎 酒 酒 酔 酔 酖 酖 酘 酘 酢 酢 酣 酣 酥 酥 酩 酩 酪 酪 酬 酬 酲 酲 酳 酳 酵 酵 酷 酷 酸 酸 醂 醂 醇 醇 醉 醉 醋 醋 醍 醍 醐 醐 醒 醒 醒 醗 醗 醗 醗 醜 醜 醢 醢 醤 醤 醤 醪 醪 醫 醫 醯 醯 醴 醴 醴 醵 醵 醵 醵 醵 醸 醸 醸 醺 醺 醺 釀 釀 釀 釁 釁 釁 釆 釆 采 采 釈 釈 釉 釉 釉 釋 釋 里 里 里 重 重 重 野 野 野 量 量 量 釐 釐 釐 金 釖 釘 釛 釜 釜 針 釟 釡 釣 釦 釧 釵 釶 釼 釿 鈍 鈎 鈑 鈔 鈕 鈞 鈩 鈬 鈴 鈴 鈷 鈿 鈿 鉄 鉅 鉅 鉈 鉈 鉉 鉉 鉋 鉐 鉗 鉗 鉚 鉛 鉞 鉢 鉤 鉦 鉦 鉱 鉱 鉾 銀 銀 銃 銃 銅 銑 銓 銓 銕 銖 銖 銘 銚 銚 銛 銜 銭 銷 銷 銹 銹 鋏 鋒 鋤 鋤 鋩 鋩 鋪 鋪 鋭 鋲 鋳 鋸 鋺 鋺 鋼 錆 錆 錆 錆 錏 錐 錘 錘 錙 錙 錚 錠 錠 錢 錣 錦 錦 錨 錨 錫 錫 錬 錬 錮 錯 錯 録 録 錵 錺 錺 錻 錻 鍄 鍄 鍋 鍋 鍍 鍍 鍔 鍖 鍖 鍛 鍜 鍠 鍠 鍠 鍬 鍬 鍮 鍵 鍵 鍼 鍾 鍾 鍾 鎌 鎔 鎔 鎖 鎖 鎗 鎚 鎚 鎧 鎬 鎬 鎭 鎭 鎮 鎮 鎰 鎹 鏃 鏃 鏈 鏈 鏐 鏑 鏑 鏖 鏖 鏗 鏗 鏘 鏝 鏝 鏡 鏡 鏤 鏥 鏥 鏨 鏨 鐃 鐇 鐇 鐐 鐐 鐓 鐓 鐔 鐔 鐘 鐘 鐘 鐙 鐙 鐙 鐚 鐡 鐫 鐵 鐵 鐶 鐸 鐺 鐺 鑁 鑄 鑑 鑑 鑒 鑒 鑓 鑓 鑚 鑚 鑛 鑛 鑛 鑞 鑠 鑠 鑢 鑢 鑢 鑢 鑢 鑪 鑪 鑪 鑪 鑪 鑰 鑰 鑵 鑷 鑷 鑷 鑼 鑽 鑽 鑾 鑿 钁 钁 長 長 門 門 閂 閂 閃 閃 閇 閇 閉 閉 閊 閊 開 開 閏 閏 閑 閑 間 間 閔 閔 閖 閖 閘 閘 閙 閙 閠 閠 閠 関 関 閣 閣 閤 閤 閥 閥 閧 閧 閨 閨 閭 閭 閲 閲 閹 閹 閻 閻 閻 閼 閼 閾 閾 闃 闃 闇 闇 闊 闊 闌 闌 闍 闍 闔 闔 闕 闕 闖 闖 闖 闘 闘 關 關 闡 闡 闢 闢 闥 闥 阜 阝 阡 阨 阪 阮 阯 阯 防 防 阻 阻 阿 陀 陀 陂 附 陋 陌 陌 降 陏 陏 限 限 陛 陛 陜 陝 陞 陟 陟 院 院 陣 陣 除 陥 陥 陦 陪 陪 陬 陬 陬 陰 陲 陲 陳 陳 陵 陶 陷 陷 陸 険 陽 陽 隅 隅 隆 隆 隈 隈 隊 隋 隋 隍 隍 隍 階 階 随 随 隔 隕 隗 隗 隘 隙 隙 隙 隙 際 障 障 隠 隠 隣 隧 隨 隨 險 隰 隰 隱 隲 隲 隴 隴 隶 隷 隸 隸 隹 隻 隼 雀 雁 雄 雅 集 集 雇 雉 雋 雌 雌 雌 雌 雍 雍 雎 雎 雑 雑 雕 雖 雙 雛 雜 雜 離 離 難 雨 雩 雪 雪 雫 雰 雲 零 零 雷 雷 雹 電 電 需 霄 霄 霆 震 霈 霊 霍 霎 霎 霏 霏 霑 霑 霓 霓 霖 霖 霙 霜 霜 霞 霞 霤 霤 霧 霪 霰 霰 露 霸 霸 霹 霹 霽 霽 霾 霾 霾 靂 靂 靄 靄 靄 靆 靈 靈 靉 青 青 青 靖 靖 靖 静 静 静 靜 靜 非 非 靠 靠 靡 靡 靡 面 靤 靦 靦 靨 靨 革 靫 靭 靱 靱 靴 靹 靺 靺 靼 靼 鞁 鞄 鞄 鞅 鞆 鞋 鞍 鞍 鞏 鞐 鞐 鞘 鞘 鞘 鞘 鞜 鞜 鞠 鞠 鞣 鞣 鞦 鞦 鞨 鞨 鞫 鞭 鞭 鞭 鞭 鞳 鞴 鞴 韃 韆 韈 韋 韓 韜 韭 韮 韲 韲 音 音 韵 韵 韶 韶 韻 韻 響 響 頁 頁 頂 頂 頃 頃 項 項 順 順 須 須 頌 頌 頏 頏 預 預 頑 頑 頒 頒 頓 頓 頗 頗 領 領 領 頚 頚 頡 頡 頤 頤 頬 頬 頭 頭 頰 頴 頴 頷 頷 頸 頸 頻 頻 頻 頼 頼 頽 頽 顆 顆 顋 顋 題 題 額 額 顎 顎 顏 顏 顔 顔 顕 顕 願 願 顛 顛 類 類 顧 顧 顫 顫 顯 顯 顰 顰 顰 顱 顱 顱 顱 顱 顳 顳 顳 顴 顴 風 颪 颯 颯 颱 颶 颶 飃 飄 飆 飛 飜 飜 食 食 飠 飢 飢 飩 飩 飫 飫 飭 飭 飮 飮 飯 飯 飲 飲 飴 飴 飴 飼 飼 飽 飽 飾 飾 餃 餃 餅 餅 餅 餅 餉 餉 養 養 養 餌 餌 餌 餌 餌 餌 餐 餐 餐 餒 餒 餓 餓 餔 餔 餘 餘 餝 餝 餞 餞 餠 餠 餡 餡 餡 餤 餤 館 館 餬 餬 餮 餽 餽 餾 餾 饂 饂 饅 饅 饉 饉 饋 饋 饌 饌 饐 饐 饑 饑 饒 饒 饕 饕 饕 饕 饗 饗 饗 首 首 馗 馗 馘 馘 香 香 馥 馥 馨 馨 馬 馬 馭 馭 馮 馮 馳 馳 馴 馴 馼 馼 馼 駁 駁 駁 駄 駄 駅 駅 駆 駆 駈 駈 駐 駐 駐 駑 駑 駒 駒 駕 駕 駘 駘 駛 駛 駝 駝 駝 駟 駟 駢 駢 駭 駭 駭 駮 駮 駮 駱 駱 駲 駲 駸 駸 駻 駻 駻 駿 駿 騁 騁 騁 騅 騅 騎 騎 騏 騏 騏 騒 騒 験 験 騙 騙 騙 騙 騨 騨 騨 騫 騫 騫 騰 騰 騰 騷 騷 騾 騾 騾 驀 驀 驀 驂 驂 驃 驃 驅 驅 驍 驍 驕 驕 驗 驗 驚 驚 驛 驛 驟 驟 驟 驟 驟 驢 驢 驢 驢 驢 驢 驢 驢 驤 驤 驤 驥 驥 驥 驩 驩 驪 驪 驪 驫 驫 骨 骨 骨 骭 骭 骭 骰 骰 骰 骸 骸 骸 骼 骼 骼 髀 髀 髀 髄 髄 髄 髏 髏 髏 髑 髑 髑 髓 髓 髓 體 體 體 高 高 髞 髞 髟 髟 髢 髢 髣 髣 髣 髦 髦 髪 髪 髫 髫 髭 髭 髭 髭 髮 髮 髯 髯 髱 髱 髴 髴 髷 髷 髷 髻 髻 鬆 鬆 鬆 鬘 鬘 鬘 鬚 鬚 鬚 鬟 鬟 鬢 鬢 鬢 鬣 鬣 鬥 鬥 鬧 鬧 鬧 鬨 鬨 鬩 鬩 鬩 鬩 鬪 鬪 鬮 鬮 鬯 鬱 鬲 鬻 鬼 鬼 魁 魁 魂 魂 魃 魃 魄 魄 魅 魅 魍 魍 魎 魎 魏 魏 魑 魔 魔 魘 魘 魚 魚 魯 魯 魴 魴 鮃 鮃 鮎 鮎 鮎 鮑 鮑 鮒 鮒 鮓 鮓 鮖 鮖 鮗 鮗 鮟 鮟 鮠 鮠 鮨 鮨 鮪 鮪 鮫 鮫 鮫 鮭 鮭 鮮 鮮 鮴 鮴 鮹 鮹 鯀 鯀 鯆 鯆 鯉 鯉 鯉 鯊 鯊 鯏 鯏 鯑 鯑 鯒 鯒 鯔 鯔 鯖 鯖 鯖 鯖 鯛 鯛 鯡 鯡 鯡 鯢 鯢 鯢 鯣 鯣 鯤 鯤 鯨 鯨 鯰 鯰 鯱 鯱 鯱 鯱 鯱 鯲 鯲 鯵 鯵 鰄 鰄 鰆 鰆 鰈 鰈 鰉 鰉 鰉 鰊 鰊 鰌 鰌 鰍 鰍 鰐 鰐 鰒 鰒 鰓 鰓 鰔 鰔 鰕 鰕 鰕 鰛 鰛 鰡 鰡 鰤 鰤 鰥 鰥 鰭 鰭 鰮 鰮 鰯 鰯 鰯 鰯 鰰 鰰 鰲 鰲 鰹 鰹 鰹 鰺 鰺 鰻 鰻 鰾 鰾 鱆 鱆 鱇 鱇 鱈 鱈 鱒 鱒 鱒 鱒 鱗 鱚 鱚 鱠 鱠 鱧 鱧 鱧 鱶 鱶 鱶 鱸 鱸 鱸 鱸 鱸 鳥 鳥 鳧 鳧 鳩 鳩 鳫 鳫 鳬 鳬 鳰 鳰 鳳 鳳 鳴 鳴 鳶 鳶 鴃 鴃 鴆 鴆 鴇 鴇 鴈 鴈 鴉 鴉 鴉 鴎 鴎 鴒 鴒 鴒 鴕 鴕 鴛 鴛 鴟 鴟 鴣 鴣 鴦 鴦 鴨 鴨 鴪 鴪 鴫 鴫 鴬 鴬 鴻 鴻 鴾 鴾 鴿 鴿 鵁 鵁 鵄 鵄 鵄 鵆 鵆 鵈 鵈 鵈 鵐 鵐 鵑 鵑 鵙 鵙 鵜 鵜 鵝 鵝 鵞 鵞 鵠 鵠 鵠 鵡 鵡 鵡 鵤 鵤 鵬 鵬 鵯 鵯 鵲 鵲 鵺 鵺 鶇 鶇 鶉 鶉 鶏 鶏 鶚 鶚 鶤 鶤 鶩 鶩 鶫 鶫 鶯 鶯 鶲 鶲 鶴 鶴 鶸 鶸 鶺 鶺 鶻 鶻 鶻 鷁 鷁 鷂 鷂 鷄 鷄 鷆 鷆 鷏 鷏 鷓 鷓 鷙 鷙 鷦 鷦 鷭 鷭 鷯 鷯 鷲 鷲 鷸 鷸 鷹 鷹 鷺 鷺 鷽 鷽 鷽 鸚 鸚 鸛 鸛 鸞 鹵 鹸 鹹 鹽 鹽 鹿 鹿 麁 麁 麈 麈 麈 麋 麋 麌 麌 麑 麑 麑 麒 麒 麓 麓 麕 麕 麗 麗 麝 麝 麟 麥 麦 麦 麩 麪 麭 麸 麸 麹 麹 麹 麺 麺 麻 麻 麼 麼 麾 麾 麿 麿 黃 黄 黄 黌 黌 黍 黎 黎 黏 黏 黐 黑 黒 黒 黒 黔 黔 默 默 黙 黙 黙 黛 黛 黛 黜 黜 黝 黝 點 點 點 點 黠 黠 黥 黥 黥 黨 黨 黯 黯 黯 黴 黴 黶 黶 黶 黷 黷 黷 黹 黻 黼 黼 黽 鼇 鼇 鼈 鼎 鼎 鼓 鼕 鼠 鼠 鼡 鼡 鼬 鼬 鼬 鼻 鼻 鼾 鼾 齊 齊 齊 齋 齋 齋 齎 齎 齏 齏 齒 齒 齔 齔 齟 齟 齟 齠 齠 齡 齡 齡 齢 齢 齢 齣 齣 齦 齦 齦 齧 齧 齪 齪 齬 齬 齲 齲 齶 齶 齷 齷 齷 齷 龍 龍 龕 龕 龜 龝 龝 龠 龠 冷 令 嶺 玲 羚 聆 鈴 零 領 ！ ， ． ０ １ ２ ３ ４ ５ ６ ７ ８ ９ ： ； ？ Ａ Ｂ Ｃ Ｄ Ｅ Ｆ Ｇ Ｈ Ｉ Ｊ Ｋ Ｌ Ｍ Ｎ Ｏ Ｐ Ｑ Ｒ Ｓ Ｔ Ｕ Ｖ Ｗ Ｘ Ｙ Ｚ ａ ｂ ｃ ｄ ｅ ｆ ｇ ｈ ｉ ｊ ｋ ｌ ｍ ｎ ｏ ｐ ｑ ｒ ｓ ｔ ｕ ｖ ｗ ｘ ｙ ｚ 𠂊 𠂤 𠮟 𦥑\n"
     ]
    }
   ],
   "source": [
    "chars = list(map(convert_filename_to_unicode_char, svg_kanji_filenames))\n",
    "print(*chars)"
   ]
  },
  {
   "cell_type": "markdown",
   "metadata": {},
   "source": [
    "There is a `isKanji` method in `kanjivg`. I will try to print out all the characters to see if there are all the characters that I need (hiragana, katakana, and ~2000 jouyou kanji)."
   ]
  },
  {
   "cell_type": "code",
   "execution_count": 7,
   "metadata": {},
   "outputs": [],
   "source": [
    "# (v >= 0x4E00 and v <= 0x9FC3) or (v >= 0x3400 and v <= 0x4DBF) or (v >= 0xF900 and v <= 0xFAD9) or (v >= 0x2E80 and v <= 0x2EFF) or (v >= 0x20000 and v <= 0x2A6DF)\n",
    "chars = []\n",
    "chars.extend([chr(i) for i in range(0x4e00, 0x9fc3)])\n",
    "chars.extend([chr(i) for i in range(0x3400, 0x4DBF)])\n",
    "chars.extend([chr(i) for i in range(0xF900, 0xFAD9)])\n",
    "chars.extend([chr(i) for i in range(0x2E80, 0x2EFF)])\n",
    "chars.extend([chr(i) for i in range(0x20000, 0x2A6DF)])"
   ]
  },
  {
   "cell_type": "code",
   "execution_count": 8,
   "metadata": {},
   "outputs": [
    {
     "data": {
      "text/plain": [
       "70841"
      ]
     },
     "execution_count": 8,
     "metadata": {},
     "output_type": "execute_result"
    }
   ],
   "source": [
    "len(chars)"
   ]
  },
  {
   "cell_type": "code",
   "execution_count": 9,
   "metadata": {},
   "outputs": [],
   "source": [
    "with open('kanji.txt', mode='w', encoding='utf-8') as outfile:\n",
    "    num_chars_per_line = 200\n",
    "    num_lines = len(chars) // num_chars_per_line\n",
    "    for i in range(num_lines):\n",
    "        outfile.write(''.join(chars[i*num_chars_per_line:(i+1)*num_chars_per_line]))\n",
    "        outfile.write('\\n')"
   ]
  },
  {
   "cell_type": "markdown",
   "metadata": {},
   "source": [
    "There isn't any hiragana and katakana characters in those unicode ranges."
   ]
  },
  {
   "cell_type": "markdown",
   "metadata": {},
   "source": [
    "# Extract stroke from svg file"
   ]
  },
  {
   "cell_type": "code",
   "execution_count": 10,
   "metadata": {},
   "outputs": [
    {
     "name": "stdout",
     "output_type": "stream",
     "text": [
      "𦥑\n"
     ]
    },
    {
     "data": {
      "text/plain": [
       "'kanjivg/kanji/26951.svg'"
      ]
     },
     "execution_count": 10,
     "metadata": {},
     "output_type": "execute_result"
    }
   ],
   "source": [
    "filename = svg_kanji_filenames[-1]\n",
    "c = convert_filename_to_unicode_char(filename)\n",
    "print(c)\n",
    "\n",
    "svg_file = f'{svg_kanji_root}/{filename}'\n",
    "svg_file"
   ]
  },
  {
   "cell_type": "markdown",
   "metadata": {},
   "source": [
    "The stroke data is in the svg [`path`](https://www.w3.org/TR/SVG/paths.html)."
   ]
  },
  {
   "cell_type": "code",
   "execution_count": 11,
   "metadata": {},
   "outputs": [
    {
     "data": {
      "text/plain": [
       "[<DOM Element: path at 0x24fc54404a8>,\n",
       " <DOM Element: path at 0x24fc5440548>,\n",
       " <DOM Element: path at 0x24fc54405e8>,\n",
       " <DOM Element: path at 0x24fc5440688>,\n",
       " <DOM Element: path at 0x24fc5440728>,\n",
       " <DOM Element: path at 0x24fc54407c8>,\n",
       " <DOM Element: path at 0x24fc5440868>]"
      ]
     },
     "execution_count": 11,
     "metadata": {},
     "output_type": "execute_result"
    }
   ],
   "source": [
    "doc = minidom.parse(svg_file)\n",
    "path_elements = doc.getElementsByTagName('path')\n",
    "path_elements"
   ]
  },
  {
   "cell_type": "code",
   "execution_count": 12,
   "metadata": {},
   "outputs": [
    {
     "data": {
      "text/plain": [
       "<DOM Element: path at 0x24fc54404a8>"
      ]
     },
     "execution_count": 12,
     "metadata": {},
     "output_type": "execute_result"
    }
   ],
   "source": [
    "e = path_elements[0]\n",
    "e"
   ]
  },
  {
   "cell_type": "code",
   "execution_count": 13,
   "metadata": {
    "scrolled": true
   },
   "outputs": [
    {
     "data": {
      "text/plain": [
       "'M50.18,12.4c-0.18,1.6-1.05,2.8-2.03,3.64C41.7,21.61,35.12,26.05,20,33.25'"
      ]
     },
     "execution_count": 13,
     "metadata": {},
     "output_type": "execute_result"
    }
   ],
   "source": [
    "d = e.getAttribute('d')\n",
    "d"
   ]
  },
  {
   "cell_type": "code",
   "execution_count": 14,
   "metadata": {
    "scrolled": true
   },
   "outputs": [
    {
     "data": {
      "text/plain": [
       "['',\n",
       " '50.18,12.4',\n",
       " '0.18,1.6',\n",
       " '1.05,2.8',\n",
       " '2.03,3.64',\n",
       " '41.7,21.61,35.12,26.05,20,33.25']"
      ]
     },
     "execution_count": 14,
     "metadata": {},
     "output_type": "execute_result"
    }
   ],
   "source": [
    "# I though we could just line to all points at first.\n",
    "regex = re.compile(r'[mc-]+', re.IGNORECASE)\n",
    "re.split(regex, d)"
   ]
  },
  {
   "cell_type": "markdown",
   "metadata": {},
   "source": [
    "Find all characters in the `d` attribute to see if there is any special graphics method that will affect the representation of the kanji."
   ]
  },
  {
   "cell_type": "code",
   "execution_count": 15,
   "metadata": {},
   "outputs": [
    {
     "name": "stderr",
     "output_type": "stream",
     "text": [
      "100%|████████████████████████████████████████████████████████████████████████| 11458/11458 [01:46<00:00, 107.73it/s]\n"
     ]
    }
   ],
   "source": [
    "chars_dict = {}\n",
    "for filename in tqdm(svg_kanji_filenames):\n",
    "    svg_file = f'{svg_kanji_root}/{filename}'\n",
    "    doc = minidom.parse(svg_file)\n",
    "    path_elements = doc.getElementsByTagName('path')\n",
    "    for e in path_elements:\n",
    "        d = e.getAttribute('d')\n",
    "        for c in d:\n",
    "            # skip numbers\n",
    "            if c in '0123456789.':\n",
    "                continue\n",
    "\n",
    "            if c in chars_dict:\n",
    "                chars_dict[c] += 1\n",
    "            else:\n",
    "                chars_dict[c] = 1"
   ]
  },
  {
   "cell_type": "code",
   "execution_count": 16,
   "metadata": {},
   "outputs": [
    {
     "data": {
      "text/plain": [
       "{'M': 144104,\n",
       " ',': 1338625,\n",
       " 'c': 301536,\n",
       " '-': 442367,\n",
       " ' ': 6617,\n",
       " 'C': 15114,\n",
       " 's': 2441,\n",
       " 'm': 133,\n",
       " 'S': 233}"
      ]
     },
     "execution_count": 16,
     "metadata": {},
     "output_type": "execute_result"
    }
   ],
   "source": [
    "chars_dict"
   ]
  },
  {
   "cell_type": "markdown",
   "metadata": {},
   "source": [
    "- `M` and `m` is `moveto` ('absolute' and 'relative' respectively). [Reference](https://www.w3.org/TR/SVG/paths.html#PathDataMovetoCommands)\n",
    "- `C`, `c`, `S`, and `s` are part of cubic Bezier curve commands. [Reference](https://www.w3.org/TR/SVG/paths.html#PathDataCubicBezierCommands)\n",
    "- Comma (`,`) is used to separate `x` and `y` coordinate. Example: `0,0`.\n",
    "- Space and dash (`-`) are used to separate parameters. For example: `0,0 100,100` or `300,200-240,100`."
   ]
  },
  {
   "cell_type": "markdown",
   "metadata": {},
   "source": [
    "I read about Bezier curve. I think [this one](https://javascript.info/bezier-curve) give me the basic understanding with visualization."
   ]
  },
  {
   "cell_type": "code",
   "execution_count": 29,
   "metadata": {},
   "outputs": [],
   "source": [
    "import svgparser"
   ]
  },
  {
   "cell_type": "code",
   "execution_count": 40,
   "metadata": {},
   "outputs": [],
   "source": [
    "# reload module after fixing some bug, edge cases, etc.\n",
    "# https://stackoverflow.com/questions/1254370/reimport-a-module-in-python-while-interactive\n",
    "# I don't want to show private path in output\n",
    "_ = importlib.reload(svgparser)"
   ]
  },
  {
   "cell_type": "code",
   "execution_count": 24,
   "metadata": {},
   "outputs": [
    {
     "data": {
      "text/plain": [
       "[<DOM Element: path at 0x24fc58aaea8>,\n",
       " <DOM Element: path at 0x24fc58aa9a8>,\n",
       " <DOM Element: path at 0x24fc58aaf48>,\n",
       " <DOM Element: path at 0x24fc58aa688>,\n",
       " <DOM Element: path at 0x24fc58aa4a8>,\n",
       " <DOM Element: path at 0x24fc58aa908>,\n",
       " <DOM Element: path at 0x24fc58aaae8>]"
      ]
     },
     "execution_count": 24,
     "metadata": {},
     "output_type": "execute_result"
    }
   ],
   "source": [
    "path_elements"
   ]
  },
  {
   "cell_type": "code",
   "execution_count": 41,
   "metadata": {},
   "outputs": [
    {
     "name": "stdout",
     "output_type": "stream",
     "text": [
      "M50.18,12.4c-0.18,1.6-1.05,2.8-2.03,3.64C41.7,21.61,35.12,26.05,20,33.25\n",
      "('M', (50.18, 12.4)) ('c', (-0.18, 1.6, -1.05, 2.8, -2.03, 3.64)) ('C', (41.7, 21.61, 35.12, 26.05, 20, 33.25))\n",
      "M17.76,34.01c0.99,1.45,1.33,2.95,1.64,5.92c1.34,12.82,3.72,36.82,5.3,53\n",
      "('M', (17.76, 34.01)) ('c', (0.99, 1.45, 1.33, 2.95, 1.64, 5.92)) ('c', (1.34, 12.82, 3.72, 36.82, 5.3, 53))\n",
      "M22.62,57.5c4.91-0.66,13.38-2,20.78-2.78c1.16-0.12,2.8,0,3.74,0\n",
      "('M', (22.62, 57.5)) ('c', (4.91, -0.66, 13.38, -2, 20.78, -2.78)) ('c', (1.16, -0.12, 2.8, 0, 3.74, 0))\n",
      "M25.59,89.85c5.66-0.6,15.78-1.47,19.53-1.78c1.16-0.09,2.8,0,3.74,0\n",
      "('M', (25.59, 89.85)) ('c', (5.66, -0.6, 15.78, -1.47, 19.53, -1.78)) ('c', (1.16, -0.09, 2.8, 0, 3.74, 0))\n",
      "M60.25,26.72c1.8,0.51,3.1,1.07,5.03,0.9c3.99-0.35,16.17-2.17,20.52-2.74c2.45-0.32,5.26,0.21,4.84,3.42c-2.89,21.83-6.51,48.45-8.25,61.88\n",
      "('M', (60.25, 26.72)) ('c', (1.8, 0.51, 3.1, 1.07, 5.03, 0.9)) ('c', (3.99, -0.35, 16.17, -2.17, 20.52, -2.74)) ('c', (2.45, -0.32, 5.26, 0.21, 4.84, 3.42)) ('c', (-2.89, 21.83, -6.51, 48.45, -8.25, 61.88))\n",
      "M59.38,54.04c1.25,0.38,2.5,0.78,4.23,0.64c3.64-0.3,15.52-1.18,22.64-2.05\n",
      "('M', (59.38, 54.04)) ('c', (1.25, 0.38, 2.5, 0.78, 4.23, 0.64)) ('c', (3.64, -0.3, 15.52, -1.18, 22.64, -2.05))\n",
      "M58.92,86.21c1.88,0.32,3.55,0.62,5.47,0.53C69.12,86.52,75.75,86,82,85.85\n",
      "('M', (58.92, 86.21)) ('c', (1.88, 0.32, 3.55, 0.62, 5.47, 0.53)) ('C', (69.12, 86.52, 75.75, 86, 82, 85.85))\n"
     ]
    }
   ],
   "source": [
    "for e in path_elements:\n",
    "    d = e.getAttribute('d')\n",
    "    print(d)\n",
    "    path_commands = svgparser.parse_d_property(d)\n",
    "    print(*path_commands)"
   ]
  },
  {
   "cell_type": "code",
   "execution_count": 17,
   "metadata": {},
   "outputs": [
    {
     "data": {
      "text/plain": [
       "(109, 109, 3)"
      ]
     },
     "execution_count": 17,
     "metadata": {},
     "output_type": "execute_result"
    }
   ],
   "source": [
    "# create black image to render svg\n",
    "canvas = np.zeros((109, 109, 3), dtype=np.uint8)\n",
    "canvas.shape"
   ]
  },
  {
   "cell_type": "code",
   "execution_count": 18,
   "metadata": {},
   "outputs": [
    {
     "data": {
      "text/plain": [
       "<matplotlib.image.AxesImage at 0x24fc5602988>"
      ]
     },
     "execution_count": 18,
     "metadata": {},
     "output_type": "execute_result"
    },
    {
     "data": {
      "image/png": "[encoded data removed]",
      "text/plain": [
       "<Figure size 432x288 with 1 Axes>"
      ]
     },
     "metadata": {
      "needs_background": "light"
     },
     "output_type": "display_data"
    }
   ],
   "source": [
    "plt.imshow(canvas)"
   ]
  }
 ],
 "metadata": {
  "kernelspec": {
   "display_name": "Python 3",
   "language": "python",
   "name": "python3"
  },
  "language_info": {
   "codemirror_mode": {
    "name": "ipython",
    "version": 3
   },
   "file_extension": ".py",
   "mimetype": "text/x-python",
   "name": "python",
   "nbconvert_exporter": "python",
   "pygments_lexer": "ipython3",
   "version": "3.7.6"
  }
 },
 "nbformat": 4,
 "nbformat_minor": 4
}
